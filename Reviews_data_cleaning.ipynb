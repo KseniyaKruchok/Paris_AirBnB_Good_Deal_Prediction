{
 "cells": [
  {
   "cell_type": "markdown",
   "metadata": {},
   "source": [
    "# Data cleaning and data wrangling on Listing Reviews database\n",
    "## 1. Loading data"
   ]
  },
  {
   "cell_type": "code",
   "execution_count": 1,
   "metadata": {},
   "outputs": [],
   "source": [
    "# import pandas\n",
    "import pandas as pd"
   ]
  },
  {
   "cell_type": "code",
   "execution_count": 2,
   "metadata": {},
   "outputs": [],
   "source": [
    "# read data from a zipped file to a dataframe\n",
    "df = pd.read_csv('reviews.csv.gz', compression='gzip', header=0, sep=',', quotechar='\"', error_bad_lines=False, low_memory=False)"
   ]
  },
  {
   "cell_type": "code",
   "execution_count": 3,
   "metadata": {},
   "outputs": [
    {
     "name": "stdout",
     "output_type": "stream",
     "text": [
      "<class 'pandas.core.frame.DataFrame'>\n",
      "RangeIndex: 1153623 entries, 0 to 1153622\n",
      "Data columns (total 6 columns):\n",
      "listing_id       1153623 non-null int64\n",
      "id               1153623 non-null int64\n",
      "date             1153623 non-null object\n",
      "reviewer_id      1153623 non-null int64\n",
      "reviewer_name    1153623 non-null object\n",
      "comments         1153295 non-null object\n",
      "dtypes: int64(3), object(3)\n",
      "memory usage: 52.8+ MB\n"
     ]
    }
   ],
   "source": [
    "df.info()"
   ]
  },
  {
   "cell_type": "markdown",
   "metadata": {},
   "source": [
    "### 2. Dealing with missing values\n",
    "Only 'comments' column has missing values. They represent about 0.03% of the data and it is safe to drop them."
   ]
  },
  {
   "cell_type": "code",
   "execution_count": 4,
   "metadata": {},
   "outputs": [],
   "source": [
    "df = df.dropna()"
   ]
  },
  {
   "cell_type": "markdown",
   "metadata": {},
   "source": [
    "### 3. Data Transformation\n",
    "I will change date column to datetime format and add one more column indicating if the comment is an automated message informing about host cancelling the reservation."
   ]
  },
  {
   "cell_type": "code",
   "execution_count": 5,
   "metadata": {},
   "outputs": [],
   "source": [
    "# transform date column to datetime type\n",
    "df.loc[:,'date'] = pd.to_datetime(df.loc[:,'date'])"
   ]
  },
  {
   "cell_type": "code",
   "execution_count": 6,
   "metadata": {},
   "outputs": [],
   "source": [
    "df['canceled_res'] = df.comments.str.startswith('The host canceled')"
   ]
  },
  {
   "cell_type": "markdown",
   "metadata": {},
   "source": [
    "Lastly, I will drop the listings that were dropped from general listing database to keep information consistent."
   ]
  },
  {
   "cell_type": "code",
   "execution_count": 7,
   "metadata": {},
   "outputs": [],
   "source": [
    "# load listing ids list\n",
    "ids = pd.read_csv('listing_ids.csv', header = None)\n",
    "ids = ids.drop(0, axis=1)"
   ]
  },
  {
   "cell_type": "code",
   "execution_count": 8,
   "metadata": {},
   "outputs": [],
   "source": [
    "# merge data frames\n",
    "reviews_cleaned = ids.merge(df, left_on=1, right_on='listing_id')\n",
    "reviews_cleaned = reviews_cleaned.drop(1, axis = 1)"
   ]
  },
  {
   "cell_type": "code",
   "execution_count": 9,
   "metadata": {},
   "outputs": [],
   "source": [
    "# write data to file\n",
    "reviews_cleaned.to_csv('reviews_cleaned.csv.gz', compression='gzip')"
   ]
  },
  {
   "cell_type": "code",
   "execution_count": null,
   "metadata": {},
   "outputs": [],
   "source": []
  }
 ],
 "metadata": {
  "kernelspec": {
   "display_name": "Python 3",
   "language": "python",
   "name": "python3"
  },
  "language_info": {
   "codemirror_mode": {
    "name": "ipython",
    "version": 3
   },
   "file_extension": ".py",
   "mimetype": "text/x-python",
   "name": "python",
   "nbconvert_exporter": "python",
   "pygments_lexer": "ipython3",
   "version": "3.7.3"
  }
 },
 "nbformat": 4,
 "nbformat_minor": 2
}
