{
 "cells": [
  {
   "cell_type": "markdown",
   "metadata": {},
   "source": [
    "# Sentiment Analysis\n",
    "\n",
    "From exploratory analysis I saw that the occupancy rate depends a lot on opinion and ratings that previous tourists left. Therefore I will be taking a closer look at reviews for AirBnB listings in Paris. Using existing tools I will calculate sentiment analysis for each review and will take it's average as a new charecteristic of listings."
   ]
  },
  {
   "cell_type": "code",
   "execution_count": 1,
   "metadata": {},
   "outputs": [],
   "source": [
    "# import relevant libraries\n",
    "import pandas as pd\n",
    "import numpy as np\n",
    "import matplotlib.pyplot as plt\n",
    "import seaborn as sns"
   ]
  },
  {
   "cell_type": "code",
   "execution_count": 2,
   "metadata": {},
   "outputs": [
    {
     "data": {
      "text/html": [
       "<div>\n",
       "<style scoped>\n",
       "    .dataframe tbody tr th:only-of-type {\n",
       "        vertical-align: middle;\n",
       "    }\n",
       "\n",
       "    .dataframe tbody tr th {\n",
       "        vertical-align: top;\n",
       "    }\n",
       "\n",
       "    .dataframe thead th {\n",
       "        text-align: right;\n",
       "    }\n",
       "</style>\n",
       "<table border=\"1\" class=\"dataframe\">\n",
       "  <thead>\n",
       "    <tr style=\"text-align: right;\">\n",
       "      <th></th>\n",
       "      <th>id</th>\n",
       "      <th>host_id</th>\n",
       "      <th>host_since</th>\n",
       "      <th>host_response_time</th>\n",
       "      <th>host_response_rate</th>\n",
       "      <th>host_is_superhost</th>\n",
       "      <th>host_verifications</th>\n",
       "      <th>host_identity_verified</th>\n",
       "      <th>neighbourhood</th>\n",
       "      <th>latitude</th>\n",
       "      <th>...</th>\n",
       "      <th>instant_bookable</th>\n",
       "      <th>cancellation_policy</th>\n",
       "      <th>total_listings_per_host</th>\n",
       "      <th>reviews_per_month_total</th>\n",
       "      <th>is_host_near</th>\n",
       "      <th>amenities_count</th>\n",
       "      <th>price</th>\n",
       "      <th>reviews_per_month_2018</th>\n",
       "      <th>occupancy_rate</th>\n",
       "      <th>income</th>\n",
       "    </tr>\n",
       "  </thead>\n",
       "  <tbody>\n",
       "    <tr>\n",
       "      <th>0</th>\n",
       "      <td>3109</td>\n",
       "      <td>3631</td>\n",
       "      <td>2008-10-14</td>\n",
       "      <td>within a day</td>\n",
       "      <td>1.000000</td>\n",
       "      <td>0</td>\n",
       "      <td>41</td>\n",
       "      <td>0</td>\n",
       "      <td>Observatoire</td>\n",
       "      <td>48.83349</td>\n",
       "      <td>...</td>\n",
       "      <td>f</td>\n",
       "      <td>flexible</td>\n",
       "      <td>1</td>\n",
       "      <td>0.27</td>\n",
       "      <td>t</td>\n",
       "      <td>246</td>\n",
       "      <td>75.0</td>\n",
       "      <td>0.333333</td>\n",
       "      <td>3.466667</td>\n",
       "      <td>3120.0</td>\n",
       "    </tr>\n",
       "    <tr>\n",
       "      <th>1</th>\n",
       "      <td>5396</td>\n",
       "      <td>7903</td>\n",
       "      <td>2009-02-14</td>\n",
       "      <td>within an hour</td>\n",
       "      <td>1.000000</td>\n",
       "      <td>0</td>\n",
       "      <td>77</td>\n",
       "      <td>1</td>\n",
       "      <td>Hôtel-de-Ville</td>\n",
       "      <td>48.85100</td>\n",
       "      <td>...</td>\n",
       "      <td>t</td>\n",
       "      <td>strict</td>\n",
       "      <td>1</td>\n",
       "      <td>1.44</td>\n",
       "      <td>f</td>\n",
       "      <td>255</td>\n",
       "      <td>115.0</td>\n",
       "      <td>3.000000</td>\n",
       "      <td>31.200000</td>\n",
       "      <td>43056.0</td>\n",
       "    </tr>\n",
       "    <tr>\n",
       "      <th>2</th>\n",
       "      <td>7397</td>\n",
       "      <td>2626</td>\n",
       "      <td>2008-08-30</td>\n",
       "      <td>within a few hours</td>\n",
       "      <td>1.000000</td>\n",
       "      <td>0</td>\n",
       "      <td>109</td>\n",
       "      <td>1</td>\n",
       "      <td>Hôtel-de-Ville</td>\n",
       "      <td>48.85758</td>\n",
       "      <td>...</td>\n",
       "      <td>f</td>\n",
       "      <td>moderate</td>\n",
       "      <td>1</td>\n",
       "      <td>2.47</td>\n",
       "      <td>f</td>\n",
       "      <td>295</td>\n",
       "      <td>115.0</td>\n",
       "      <td>3.083333</td>\n",
       "      <td>32.066667</td>\n",
       "      <td>44252.0</td>\n",
       "    </tr>\n",
       "    <tr>\n",
       "      <th>3</th>\n",
       "      <td>9952</td>\n",
       "      <td>33534</td>\n",
       "      <td>2009-08-24</td>\n",
       "      <td>unknown</td>\n",
       "      <td>0.922983</td>\n",
       "      <td>1</td>\n",
       "      <td>29</td>\n",
       "      <td>0</td>\n",
       "      <td>Popincourt</td>\n",
       "      <td>48.86227</td>\n",
       "      <td>...</td>\n",
       "      <td>f</td>\n",
       "      <td>strict</td>\n",
       "      <td>1</td>\n",
       "      <td>0.22</td>\n",
       "      <td>t</td>\n",
       "      <td>395</td>\n",
       "      <td>75.0</td>\n",
       "      <td>0.833333</td>\n",
       "      <td>8.666667</td>\n",
       "      <td>7800.0</td>\n",
       "    </tr>\n",
       "    <tr>\n",
       "      <th>4</th>\n",
       "      <td>10586</td>\n",
       "      <td>37107</td>\n",
       "      <td>2009-09-08</td>\n",
       "      <td>within an hour</td>\n",
       "      <td>1.000000</td>\n",
       "      <td>1</td>\n",
       "      <td>170</td>\n",
       "      <td>1</td>\n",
       "      <td>Buttes-Montmartre</td>\n",
       "      <td>48.88902</td>\n",
       "      <td>...</td>\n",
       "      <td>f</td>\n",
       "      <td>strict</td>\n",
       "      <td>3</td>\n",
       "      <td>0.36</td>\n",
       "      <td>t</td>\n",
       "      <td>105</td>\n",
       "      <td>80.0</td>\n",
       "      <td>0.083333</td>\n",
       "      <td>0.866667</td>\n",
       "      <td>832.0</td>\n",
       "    </tr>\n",
       "  </tbody>\n",
       "</table>\n",
       "<p>5 rows × 41 columns</p>\n",
       "</div>"
      ],
      "text/plain": [
       "      id  host_id  host_since  host_response_time  host_response_rate  \\\n",
       "0   3109     3631  2008-10-14        within a day            1.000000   \n",
       "1   5396     7903  2009-02-14      within an hour            1.000000   \n",
       "2   7397     2626  2008-08-30  within a few hours            1.000000   \n",
       "3   9952    33534  2009-08-24             unknown            0.922983   \n",
       "4  10586    37107  2009-09-08      within an hour            1.000000   \n",
       "\n",
       "   host_is_superhost  host_verifications  host_identity_verified  \\\n",
       "0                  0                  41                       0   \n",
       "1                  0                  77                       1   \n",
       "2                  0                 109                       1   \n",
       "3                  1                  29                       0   \n",
       "4                  1                 170                       1   \n",
       "\n",
       "       neighbourhood  latitude  ...  instant_bookable  cancellation_policy  \\\n",
       "0       Observatoire  48.83349  ...                 f             flexible   \n",
       "1     Hôtel-de-Ville  48.85100  ...                 t               strict   \n",
       "2     Hôtel-de-Ville  48.85758  ...                 f             moderate   \n",
       "3         Popincourt  48.86227  ...                 f               strict   \n",
       "4  Buttes-Montmartre  48.88902  ...                 f               strict   \n",
       "\n",
       "   total_listings_per_host  reviews_per_month_total  is_host_near  \\\n",
       "0                        1                     0.27             t   \n",
       "1                        1                     1.44             f   \n",
       "2                        1                     2.47             f   \n",
       "3                        1                     0.22             t   \n",
       "4                        3                     0.36             t   \n",
       "\n",
       "  amenities_count  price  reviews_per_month_2018  occupancy_rate   income  \n",
       "0             246   75.0                0.333333        3.466667   3120.0  \n",
       "1             255  115.0                3.000000       31.200000  43056.0  \n",
       "2             295  115.0                3.083333       32.066667  44252.0  \n",
       "3             395   75.0                0.833333        8.666667   7800.0  \n",
       "4             105   80.0                0.083333        0.866667    832.0  \n",
       "\n",
       "[5 rows x 41 columns]"
      ]
     },
     "execution_count": 2,
     "metadata": {},
     "output_type": "execute_result"
    }
   ],
   "source": [
    "# load listings data\n",
    "df = pd.read_csv(\"entire_home_listings.csv\")\n",
    "df.drop('Unnamed: 0', axis = 1, inplace=True)\n",
    "df.head()"
   ]
  },
  {
   "cell_type": "code",
   "execution_count": 3,
   "metadata": {},
   "outputs": [
    {
     "data": {
      "text/html": [
       "<div>\n",
       "<style scoped>\n",
       "    .dataframe tbody tr th:only-of-type {\n",
       "        vertical-align: middle;\n",
       "    }\n",
       "\n",
       "    .dataframe tbody tr th {\n",
       "        vertical-align: top;\n",
       "    }\n",
       "\n",
       "    .dataframe thead th {\n",
       "        text-align: right;\n",
       "    }\n",
       "</style>\n",
       "<table border=\"1\" class=\"dataframe\">\n",
       "  <thead>\n",
       "    <tr style=\"text-align: right;\">\n",
       "      <th></th>\n",
       "      <th>listing_id</th>\n",
       "      <th>id</th>\n",
       "      <th>date</th>\n",
       "      <th>reviewer_id</th>\n",
       "      <th>reviewer_name</th>\n",
       "      <th>comments</th>\n",
       "      <th>canceled_res</th>\n",
       "    </tr>\n",
       "  </thead>\n",
       "  <tbody>\n",
       "    <tr>\n",
       "      <th>0</th>\n",
       "      <td>3109</td>\n",
       "      <td>123127969</td>\n",
       "      <td>2016-12-27</td>\n",
       "      <td>12389804</td>\n",
       "      <td>Sophie</td>\n",
       "      <td>The host canceled this reservation the day bef...</td>\n",
       "      <td>True</td>\n",
       "    </tr>\n",
       "    <tr>\n",
       "      <th>1</th>\n",
       "      <td>3109</td>\n",
       "      <td>123274144</td>\n",
       "      <td>2016-12-28</td>\n",
       "      <td>67553494</td>\n",
       "      <td>Tom'S</td>\n",
       "      <td>The host canceled this reservation 2 days befo...</td>\n",
       "      <td>True</td>\n",
       "    </tr>\n",
       "    <tr>\n",
       "      <th>2</th>\n",
       "      <td>3109</td>\n",
       "      <td>207127433</td>\n",
       "      <td>2017-10-28</td>\n",
       "      <td>51636494</td>\n",
       "      <td>Patricia</td>\n",
       "      <td>Tout s'est bien déroulé. Merci bien. PG</td>\n",
       "      <td>False</td>\n",
       "    </tr>\n",
       "    <tr>\n",
       "      <th>3</th>\n",
       "      <td>3109</td>\n",
       "      <td>208779822</td>\n",
       "      <td>2017-11-03</td>\n",
       "      <td>4142888</td>\n",
       "      <td>Patricia</td>\n",
       "      <td>Un petit nid fouiller douillet situé dans  app...</td>\n",
       "      <td>False</td>\n",
       "    </tr>\n",
       "    <tr>\n",
       "      <th>4</th>\n",
       "      <td>3109</td>\n",
       "      <td>234257457</td>\n",
       "      <td>2018-02-12</td>\n",
       "      <td>3539452</td>\n",
       "      <td>Dominique</td>\n",
       "      <td>The host canceled this reservation 8 days befo...</td>\n",
       "      <td>True</td>\n",
       "    </tr>\n",
       "  </tbody>\n",
       "</table>\n",
       "</div>"
      ],
      "text/plain": [
       "   listing_id         id       date  reviewer_id reviewer_name  \\\n",
       "0        3109  123127969 2016-12-27     12389804        Sophie   \n",
       "1        3109  123274144 2016-12-28     67553494         Tom'S   \n",
       "2        3109  207127433 2017-10-28     51636494      Patricia   \n",
       "3        3109  208779822 2017-11-03      4142888      Patricia   \n",
       "4        3109  234257457 2018-02-12      3539452     Dominique   \n",
       "\n",
       "                                            comments  canceled_res  \n",
       "0  The host canceled this reservation the day bef...          True  \n",
       "1  The host canceled this reservation 2 days befo...          True  \n",
       "2            Tout s'est bien déroulé. Merci bien. PG         False  \n",
       "3  Un petit nid fouiller douillet situé dans  app...         False  \n",
       "4  The host canceled this reservation 8 days befo...          True  "
      ]
     },
     "execution_count": 3,
     "metadata": {},
     "output_type": "execute_result"
    }
   ],
   "source": [
    "# read review data from a zipped file to a dataframe\n",
    "rev = pd.read_csv('reviews_cleaned.csv.gz', compression='gzip', header=0, \n",
    "                  parse_dates = ['date'], sep=',', quotechar='\"', error_bad_lines=False, low_memory=False)\n",
    "rev.drop('Unnamed: 0', axis = 1, inplace=True)\n",
    "rev.head()"
   ]
  },
  {
   "cell_type": "code",
   "execution_count": 4,
   "metadata": {},
   "outputs": [],
   "source": [
    "# filter for reviews only for the listings in question\n",
    "x = pd.DataFrame(df['id'])\n",
    "x.columns = ['listing_id']\n",
    "rev_ent = x.merge(rev, on = 'listing_id')"
   ]
  },
  {
   "cell_type": "markdown",
   "metadata": {},
   "source": [
    "### VaderSentiment\n",
    "\n",
    "For sentiment analysis I will be using Vader (Valence Aware Dictionary and sEntiment Reasoner). It is a lexicon and rule-based sentiment analysis tool that is specifically attuned to sentiments expressed in social media. The creators of Vader built their own lexicon based on some pre-existing well-established sentiment word-banks (LIWC, ANEW, and GI) and additionally incorporated emoticons, sentiment-related acronyms (like LOL or WTF) and commonly used slang with sentiment value. 10 pre-screened and trained independent human raters rated 9000 token features. The tokens with non-zero mean and standard deviation less than 2.5 were kept and built 7500 lexical features.\n",
    "\n",
    "For more info please refer to: https://github.com/cjhutto/vaderSentiment\n",
    "\n",
    "However, it is not possible to apply Vader to our reviews right away. This tool gives good results for texts in English, but does not have capacity to analyze other languages. Since the listings in subject are in Paris, it is reasonable to expect reviews in different languages. Let's first check what languages were used for each review."
   ]
  },
  {
   "cell_type": "code",
   "execution_count": 5,
   "metadata": {},
   "outputs": [],
   "source": [
    "# import a package to distinguish a language of the text\n",
    "import langid"
   ]
  },
  {
   "cell_type": "code",
   "execution_count": 6,
   "metadata": {
    "scrolled": true
   },
   "outputs": [
    {
     "name": "stdout",
     "output_type": "stream",
     "text": [
      "Wall time: 0 ns\n"
     ]
    }
   ],
   "source": [
    "# create array of languages used in reviews\n",
    "%time\n",
    "a = ['']\n",
    "for i in range(rev_ent.shape[0]):\n",
    "    b = rev_ent.iloc[i, 5].strip()\n",
    "    #print(b)\n",
    "    x = langid.classify(b)\n",
    "    #print(x)\n",
    "    a.append(x[0])"
   ]
  },
  {
   "cell_type": "code",
   "execution_count": 7,
   "metadata": {},
   "outputs": [
    {
     "data": {
      "image/png": "[encoded data removed]",
      "text/plain": [
       "<Figure size 432x288 with 1 Axes>"
      ]
     },
     "metadata": {
      "needs_background": "light"
     },
     "output_type": "display_data"
    }
   ],
   "source": [
    "# show top post used languages\n",
    "pd.Series(a[1:]).value_counts()[:10].plot(kind='bar')\n",
    "plt.title('Top 10 Review Languages')\n",
    "plt.show()"
   ]
  },
  {
   "cell_type": "code",
   "execution_count": 8,
   "metadata": {
    "scrolled": true
   },
   "outputs": [
    {
     "data": {
      "text/plain": [
       "en    536442\n",
       "fr    202757\n",
       "es     34882\n",
       "de     14608\n",
       "it     12576\n",
       "pt      9122\n",
       "ko      7867\n",
       "zh      7130\n",
       "ru      5581\n",
       "nl      3998\n",
       "dtype: int64"
      ]
     },
     "execution_count": 8,
     "metadata": {},
     "output_type": "execute_result"
    }
   ],
   "source": [
    "#numerical values\n",
    "pd.Series(a[1:]).value_counts()[:10]"
   ]
  },
  {
   "cell_type": "code",
   "execution_count": 9,
   "metadata": {},
   "outputs": [],
   "source": [
    "rev_ent['language'] = a[1:]\n",
    "rev_ent.to_csv('reviews_lang.csv')"
   ]
  },
  {
   "cell_type": "code",
   "execution_count": 10,
   "metadata": {},
   "outputs": [],
   "source": [
    "rev_ent = pd.read_csv('reviews_lang.csv')\n",
    "rev_ent.drop('Unnamed: 0', axis = 1, inplace=True)"
   ]
  },
  {
   "cell_type": "markdown",
   "metadata": {},
   "source": [
    "### Review Translation\n",
    "Most reviews are in English, but over 300,000 reviews are not and it is over 30% of data. In order to be able to analyze all of it, I will translate non-English reviews into English using googletrans package and Translator tool.\n",
    "\n",
    "Translating reviews (especially over 300,000 of them) is time consuming. And googletrans Translator throws out an error periodically that means that it is running out of memory, so I excepting this error. "
   ]
  },
  {
   "cell_type": "code",
   "execution_count": 11,
   "metadata": {},
   "outputs": [],
   "source": [
    "# build a separate column for all comments translated into English\n",
    "rev_ent.loc[:,'comments_en'] = rev_ent.loc[:,'comments'] "
   ]
  },
  {
   "cell_type": "code",
   "execution_count": 12,
   "metadata": {},
   "outputs": [],
   "source": [
    "# non-English comments are switched to empty strings\n",
    "ind = rev_ent[rev_ent.language != 'en'].index\n",
    "rev_ent.loc[ind,'comments_en'] = ''"
   ]
  },
  {
   "cell_type": "code",
   "execution_count": 13,
   "metadata": {},
   "outputs": [],
   "source": [
    "# import libraries\n",
    "import json\n",
    "from googletrans import Translator\n",
    "tr = Translator()"
   ]
  },
  {
   "cell_type": "code",
   "execution_count": 31,
   "metadata": {},
   "outputs": [],
   "source": [
    "indx = rev_ent[rev_ent.comments_en==''].index\n",
    "j = 0\n",
    "error = 0\n",
    "while len(indx)!=0:\n",
    "    for i in indx:\n",
    "        if j%10000 == 0:\n",
    "            print('performed {} translations'.format(j))\n",
    "        a = rev_ent.loc[i, 'comments']  \n",
    "        try:\n",
    "            b = tr.translate(a).text\n",
    "        except json.decoder.JSONDecodeError as err: \n",
    "            error += 1                \n",
    "        except ConnectionError as er:\n",
    "            error +=1\n",
    "        else:\n",
    "            j += 1\n",
    "            rev_ent.loc[i, 'comments_en'] = b\n",
    "    indx = rev_ent[rev_ent.comments_en==''].index"
   ]
  },
  {
   "cell_type": "code",
   "execution_count": 29,
   "metadata": {},
   "outputs": [],
   "source": [
    "# manually translate 5 left reviews (need smaller size)\n",
    "x = rev_ent[rev_ent.comments_en==''].index\n",
    "for i in x:\n",
    "    rev_ent.loc[i,'comments_en'] = tr.translate(rev_ent.loc[i, 'comments'][:2000]).text"
   ]
  },
  {
   "cell_type": "markdown",
   "metadata": {},
   "source": [
    "After translation all comments are ready for sentiment analysis."
   ]
  },
  {
   "cell_type": "code",
   "execution_count": 32,
   "metadata": {},
   "outputs": [],
   "source": [
    "# import needed tool\n",
    "from vaderSentiment.vaderSentiment import SentimentIntensityAnalyzer"
   ]
  },
  {
   "cell_type": "code",
   "execution_count": 33,
   "metadata": {},
   "outputs": [],
   "source": [
    "rev_ent['sentiment'] = 0"
   ]
  },
  {
   "cell_type": "code",
   "execution_count": 34,
   "metadata": {},
   "outputs": [
    {
     "name": "stdout",
     "output_type": "stream",
     "text": [
      "Wall time: 0 ns\n"
     ]
    }
   ],
   "source": [
    "# perform sentiment analysis\n",
    "%time\n",
    "s = SentimentIntensityAnalyzer()\n",
    "for i in np.arange(rev_ent.shape[0]):\n",
    "    rev_ent.loc[i,'sentiment'] = s.polarity_scores(rev_ent.loc[i,'comments_en'])['compound']"
   ]
  },
  {
   "cell_type": "code",
   "execution_count": 35,
   "metadata": {},
   "outputs": [],
   "source": [
    "rev_ent.to_csv('reviews_sent_final.csv')"
   ]
  },
  {
   "cell_type": "code",
   "execution_count": 36,
   "metadata": {},
   "outputs": [],
   "source": [
    "# calculate average sentiment for each listing id\n",
    "sentiment= rev_ent.groupby('listing_id').mean().loc[:,'sentiment'].reset_index()\n",
    "\n",
    "# add sentiment to data set of listings\n",
    "df_final = df.merge(sentiment, left_on='id', right_on='listing_id')\n",
    "df_final.drop('listing_id', axis=1, inplace=True)"
   ]
  },
  {
   "cell_type": "code",
   "execution_count": 37,
   "metadata": {},
   "outputs": [],
   "source": [
    "#  write results to file\n",
    "df_final.to_csv('entire_home_listings_sentiment.csv')"
   ]
  },
  {
   "cell_type": "code",
   "execution_count": 38,
   "metadata": {},
   "outputs": [
    {
     "data": {
      "image/png": "[encoded data removed]",
      "text/plain": [
       "<Figure size 432x288 with 1 Axes>"
      ]
     },
     "metadata": {
      "needs_background": "light"
     },
     "output_type": "display_data"
    }
   ],
   "source": [
    "sns.distplot(df_final.sentiment,bins = 50)\n",
    "plt.title(\"Sentiment distribution among Listings\")\n",
    "plt.show()"
   ]
  },
  {
   "cell_type": "code",
   "execution_count": 39,
   "metadata": {},
   "outputs": [
    {
     "data": {
      "image/png": "[encoded data removed]",
      "text/plain": [
       "<Figure size 432x288 with 1 Axes>"
      ]
     },
     "metadata": {
      "needs_background": "light"
     },
     "output_type": "display_data"
    }
   ],
   "source": [
    "# plot average sentiment by neighbourhood\n",
    "sns.barplot(x='sentiment', y='neighbourhood', data=df_final, palette = \"Blues_r\", ci=0)\n",
    "plt.title('Average Sentiment by Neighbourhood')\n",
    "plt.show()"
   ]
  },
  {
   "cell_type": "markdown",
   "metadata": {},
   "source": [
    "The histogram and bar plot above show that most of the listings have positive sentiment analysis. It might mean that people mostly like sharing positive emotions or that most experiences were overall positive."
   ]
  }
 ],
 "metadata": {
  "kernelspec": {
   "display_name": "Python 3",
   "language": "python",
   "name": "python3"
  },
  "language_info": {
   "codemirror_mode": {
    "name": "ipython",
    "version": 3
   },
   "file_extension": ".py",
   "mimetype": "text/x-python",
   "name": "python",
   "nbconvert_exporter": "python",
   "pygments_lexer": "ipython3",
   "version": "3.7.3"
  }
 },
 "nbformat": 4,
 "nbformat_minor": 2
}
